{
  "nbformat": 4,
  "nbformat_minor": 0,
  "metadata": {
    "colab": {
      "provenance": [],
      "include_colab_link": true
    },
    "kernelspec": {
      "name": "python3",
      "display_name": "Python 3"
    },
    "language_info": {
      "name": "python"
    }
  },
  "cells": [
    {
      "cell_type": "markdown",
      "metadata": {
        "id": "view-in-github",
        "colab_type": "text"
      },
      "source": [
        "<a href=\"https://colab.research.google.com/github/Relaxforever/Python_threading/blob/main/IntelliHome.ipynb\" target=\"_parent\"><img src=\"https://colab.research.google.com/assets/colab-badge.svg\" alt=\"Open In Colab\"/></a>"
      ]
    },
    {
      "cell_type": "markdown",
      "source": [
        "Iteracion 1: Explicacion del agente"
      ],
      "metadata": {
        "id": "DC497w3kubPL"
      }
    },
    {
      "cell_type": "code",
      "source": [
        "!pip install mesa"
      ],
      "metadata": {
        "id": "QMOMUxK6tJym"
      },
      "execution_count": null,
      "outputs": []
    },
    {
      "cell_type": "code",
      "execution_count": null,
      "metadata": {
        "id": "vXeDjwVNvUBy"
      },
      "outputs": [],
      "source": [
        "#librerias\n",
        "from mesa import Agent, Model\n",
        "\n",
        "#Clase IntelliHome\n",
        "class IntelliHome(Agent):  # Heredar de la clase Agent\n",
        "    def __init__(self):\n",
        "        self.nombre = \"IntelliHome\"\n",
        "        print(\"Hola, ¡soy el agente \",self.nombre)\n",
        "\n",
        "#Modelo\n",
        "class Model_IH(Model):\n",
        "  def __init__(self):\n",
        "    agent = IntelliHome()\n"
      ]
    },
    {
      "cell_type": "code",
      "source": [
        "ih = Model_IH()"
      ],
      "metadata": {
        "id": "34Se2e9BtAul"
      },
      "execution_count": null,
      "outputs": []
    },
    {
      "cell_type": "markdown",
      "source": [
        "ITERACION 2: Algoritmos de Busqueda"
      ],
      "metadata": {
        "id": "qy-o1FkcUuch"
      }
    },
    {
      "cell_type": "markdown",
      "source": [
        "Algoritmo de busqueda en amplitud: este codigo muestra como funcionará la busqueda en amplitud de manera abstracta lo cual permitirá buscar problemas mas cercanos a la \"Raiz\" en un menor tiempo"
      ],
      "metadata": {
        "id": "dQDqptycYezk"
      }
    },
    {
      "cell_type": "code",
      "source": [
        "\n",
        "#estructura Grafo\n",
        "class Nodo: # Clase Nodo para el Grafo, el cual contiene distintas acciones\n",
        "  def __init__(self,accion,subacciones=None, funcion=None):\n",
        "    self.accion=accion #accion que realza el nodo\n",
        "    self.subacciones=subacciones #acciones similares o subacciones a las que puede conectarse\n",
        "    self.funcion = funcion\n",
        "\n",
        "\n",
        "  def ejecutar_funcion(self):\n",
        "    if self.funcion:\n",
        "      return self.funcion()\n",
        "    return None\n",
        "\n",
        "\n",
        "  def __str__(self):\n",
        "    return self.accion\n",
        "\n",
        "class Accion: #Clase Accion que contiene el nombre de la acción\n",
        "  def __init__(self,nombre):\n",
        "    self.nombre=nombre #nombre de la accion a realizar\n",
        "\n",
        "  def __str__(self):\n",
        "    return self.nombre\n",
        "\n",
        "\n",
        "#palabras clave o posibles acciones\n",
        "acciones=[\"inicio\",\n",
        "          \"controlar\",\"encender\",\"apagar\",\"subir\",\"bajar\",\"programar\",\"posponer\",\"desactivar\",\"pausar\",\"reproducir\",\"luz\",\"termostato\",\"alarma\",\"musica\",\n",
        "          \"controlar musica\",\"controlar termostato\",\"controlar alarma\",\"controlar luz\",\n",
        "          \"encender luz\",\"apagar luz\",\n",
        "          \"encender termostato\",\"apagar termostato\",\"subir temperatura\",\"bajar temperatura\",\n",
        "          \"programar alarma\",\"posponer alarma\",\"desactivar alarma\",\n",
        "          \"reproducir musica\",\"pausar musica\",\"adelantar cancion\",\"retroceder cancion\",\"repetir cancion\"]\n",
        "\n",
        "#creacion Nodos\n",
        "\n",
        "def suma_uno_mas_uno():\n",
        "    return 1 + 1\n",
        "\n",
        "\n",
        "repetirCancion=Nodo(\"repetir cancion\",None)\n",
        "retrocederCancion=Nodo(\"retroceder cancion\",None)\n",
        "adelantarCancion=Nodo(\"adelantar cancion\",None)\n",
        "pausarMusica=Nodo(\"pausar musica\",None)\n",
        "reproducirMusica=Nodo(\"reproducir musica\",None)\n",
        "desactivarAlarma=Nodo(\"desactivar alarma\",None)\n",
        "posponerAlarma=Nodo(\"posponer alarma\",None)\n",
        "programarAlarma=Nodo(\"programar alarma\",None)\n",
        "bajarTemperatura=Nodo(\"bajar temperatura\",None)\n",
        "subirTemperatura=Nodo(\"subir temperatura\",None, suma_uno_mas_uno)\n",
        "apagarTermostato=Nodo(\"apagar termostato\",None)\n",
        "encenderTermostato=Nodo(\"encender termostato\",None)\n",
        "encenderLuz=Nodo(\"encender luz\",None)\n",
        "apagarLuz=Nodo(\"apagar luz\",None)\n",
        "controlarLuz=Nodo(\"controlar luz\",[apagarLuz,encenderLuz])\n",
        "controlarAlarma=Nodo(\"controlar alarma\",[posponerAlarma,desactivarAlarma,programarAlarma])\n",
        "controlarTermostato=Nodo(\"controlar termostato\",[apagarTermostato,encenderTermostato,subirTemperatura,bajarTemperatura])\n",
        "controlarMusica=Nodo(\"controlar musica\",[reproducirMusica,pausarMusica,adelantarCancion,retrocederCancion,repetirCancion])\n",
        "controlar=Nodo(\"controlar\",[controlarTermostato,controlarMusica,controlarLuz,controlarAlarma])\n",
        "musica=Nodo(\"musica\",[controlarMusica])\n",
        "alarma=Nodo(\"alarma\",[controlarAlarma])\n",
        "termostato=Nodo(\"termostato\",[controlarTermostato])\n",
        "luz=Nodo(\"luz\",[controlarLuz])\n",
        "reproducir=Nodo(\"reproducir\",[reproducirMusica])\n",
        "pausar=Nodo(\"pausar\",[pausarMusica])\n",
        "desactivar=Nodo(\"desactivar\",[desactivarAlarma])\n",
        "posponer=Nodo(\"posponer\",posponerAlarma)\n",
        "programar=Nodo(\"programar\",[programarAlarma])\n",
        "bajar=Nodo(\"bajar\",[bajarTemperatura])\n",
        "subir=Nodo(\"subir\",[subirTemperatura])\n",
        "apagar=Nodo(\"apagar\",[apagarLuz,apagarTermostato])\n",
        "encender=Nodo(\"encender\",[encenderLuz,encenderTermostato])\n",
        "nodoRaiz=Nodo(\"inicio\",[controlar,musica,alarma,termostato,luz,reproducir,pausar\n",
        "                        ,desactivar,posponer,programar,bajar,subir,apagar,encender])\n",
        "\n",
        "# algoritmo de Busqueda BFS\n",
        "camino=[]\n",
        "# Función para obtener el nodo por acción\n",
        "def obtenerNodoPorAccion(nodo, accion):\n",
        "    if nodo.accion == accion:\n",
        "        return nodo\n",
        "    if nodo.subacciones:\n",
        "        for hijo in nodo.subacciones:\n",
        "            nodo_hijo = obtenerNodoPorAccion(hijo, accion)\n",
        "            if nodo_hijo:\n",
        "                return nodo_hijo\n",
        "    return None\n",
        "\n",
        "# BFS para trabajar con nodos\n",
        "def BFS(nodo_objetivo, nodo_actual, camino):\n",
        "    camino.append(nodo_actual.accion)\n",
        "    if nodo_actual == nodo_objetivo:\n",
        "        return camino\n",
        "    if nodo_actual.subacciones is None:\n",
        "        return None\n",
        "    for hijo in nodo_actual.subacciones:\n",
        "        if hijo == nodo_objetivo:\n",
        "            camino.append(hijo.accion)\n",
        "            return camino\n",
        "    for hijo in nodo_actual.subacciones:\n",
        "        nuevoCamino = BFS(nodo_objetivo, hijo, camino.copy())\n",
        "        if nuevoCamino:\n",
        "            return nuevoCamino\n",
        "    return None\n",
        "\n",
        "# Uso de la función:\n",
        "accion_a_buscar = \"subir temperatura\"\n",
        "nodo_objetivo = obtenerNodoPorAccion(nodoRaiz, accion_a_buscar)\n",
        "if nodo_objetivo:\n",
        "    camino = BFS(nodo_objetivo, nodoRaiz, [])\n",
        "    #print(accion_a_buscar, \", Camino:\", \" -> \".join(camino))\n",
        "    resultado_funcion = nodo_objetivo.ejecutar_funcion()\n",
        "    if resultado_funcion is not None:\n",
        "        print(f\"Resultado de ejecutar la función del nodo {accion_a_buscar}: {resultado_funcion}\")\n",
        "else:\n",
        "    print(f\"La acción {accion_a_buscar} no se encontró en el árbol.\")\n",
        "\n",
        "\n",
        "\n",
        "\n",
        "#for i in range(len(acciones)-1):\n",
        "#  result=BFS(nodoRaiz,acciones[i],[])\n",
        "#  if result:\n",
        "#    print(acciones[i],\", Camino:\", \" -> \".join(result))\n",
        "#  else:\n",
        "#    print(\"La acción no se encontró en el árbol.\")\n",
        "\n",
        "\n",
        "\n"
      ],
      "metadata": {
        "id": "gv06MTr1vB1S",
        "colab": {
          "base_uri": "https://localhost:8080/"
        },
        "outputId": "45eee349-140c-4b8f-cdbb-a39cbb7e674a"
      },
      "execution_count": null,
      "outputs": [
        {
          "output_type": "stream",
          "name": "stdout",
          "text": [
            "Resultado de ejecutar la función del nodo subir temperatura: 2\n"
          ]
        }
      ]
    },
    {
      "cell_type": "markdown",
      "source": [
        "Algoritmo de busqueda A*: Este codigo muestra como funcionará la busqueda A* de manera abtracta lo cual permitirá encontrár el camino mas corto entre un nodo inicio y un nodo objetivo de un grafo ponderado."
      ],
      "metadata": {
        "id": "YB4xt6gJtAQO"
      }
    },
    {
      "cell_type": "markdown",
      "source": [
        "# Iteracion 3: Ontología"
      ],
      "metadata": {
        "id": "SZXvFHaGKQLz"
      }
    },
    {
      "cell_type": "markdown",
      "source": [
        "Ontología Iteracion 3 usamos owlready2 como HermiT o Pellet para inferir nueva información a partir de tu ontología. owlready2 tiene integración con estos razonadores, lo que facilita su uso."
      ],
      "metadata": {
        "id": "QPVUePfiOpzj"
      }
    },
    {
      "cell_type": "markdown",
      "source": [
        "Usando OWLready"
      ],
      "metadata": {
        "id": "q3hr_Uzrf6oT"
      }
    },
    {
      "cell_type": "markdown",
      "source": [
        "# Speak to text"
      ],
      "metadata": {
        "id": "l_eXvPH7xWsw"
      }
    },
    {
      "cell_type": "markdown",
      "source": [],
      "metadata": {
        "id": "H1p8gYxWixiz"
      }
    },
    {
      "cell_type": "markdown",
      "source": [
        "Usando Protege, se hace creación de la ontologia y las asociaciones, para asi tener el ambiente."
      ],
      "metadata": {
        "id": "r_Bi9kkgmIJh"
      }
    },
    {
      "cell_type": "code",
      "source": [
        "!pip install vosk\n"
      ],
      "metadata": {
        "colab": {
          "base_uri": "https://localhost:8080/"
        },
        "id": "hIZy7exUEXXr",
        "outputId": "649f94f5-f3fb-47b9-8f34-b1d7fc04171c"
      },
      "execution_count": 12,
      "outputs": [
        {
          "output_type": "stream",
          "name": "stdout",
          "text": [
            "Requirement already satisfied: vosk in /usr/local/lib/python3.10/dist-packages (0.3.45)\n",
            "Requirement already satisfied: cffi>=1.0 in /usr/local/lib/python3.10/dist-packages (from vosk) (1.15.1)\n",
            "Requirement already satisfied: requests in /usr/local/lib/python3.10/dist-packages (from vosk) (2.31.0)\n",
            "Requirement already satisfied: tqdm in /usr/local/lib/python3.10/dist-packages (from vosk) (4.66.1)\n",
            "Requirement already satisfied: srt in /usr/local/lib/python3.10/dist-packages (from vosk) (3.5.3)\n",
            "Requirement already satisfied: websockets in /usr/local/lib/python3.10/dist-packages (from vosk) (11.0.3)\n",
            "Requirement already satisfied: pycparser in /usr/local/lib/python3.10/dist-packages (from cffi>=1.0->vosk) (2.21)\n",
            "Requirement already satisfied: charset-normalizer<4,>=2 in /usr/local/lib/python3.10/dist-packages (from requests->vosk) (3.2.0)\n",
            "Requirement already satisfied: idna<4,>=2.5 in /usr/local/lib/python3.10/dist-packages (from requests->vosk) (3.4)\n",
            "Requirement already satisfied: urllib3<3,>=1.21.1 in /usr/local/lib/python3.10/dist-packages (from requests->vosk) (2.0.4)\n",
            "Requirement already satisfied: certifi>=2017.4.17 in /usr/local/lib/python3.10/dist-packages (from requests->vosk) (2023.7.22)\n"
          ]
        }
      ]
    },
    {
      "cell_type": "code",
      "source": [
        "from google.colab import drive\n",
        "drive.mount(\"/content/drive/\", force_remount=True)\n",
        "\n",
        "# Aqui se hizo la carga de archivos de drive de la ontología. Dentro de la carpeta InteligenciaArtificial"
      ],
      "metadata": {
        "colab": {
          "base_uri": "https://localhost:8080/"
        },
        "id": "zEoX-bPchxlj",
        "outputId": "668cb55b-08af-4c2e-e8dc-94ffa7eb9c4c"
      },
      "execution_count": 8,
      "outputs": [
        {
          "output_type": "stream",
          "name": "stdout",
          "text": [
            "Mounted at /content/drive/\n"
          ]
        }
      ]
    },
    {
      "cell_type": "code",
      "source": [
        "import sys\n",
        "import json\n",
        "import os\n",
        "from vosk import Model, KaldiRecognizer\n",
        "import wave\n",
        "\n",
        "# Cargar el modelo\n",
        "model_path = \"/content/drive/MyDrive/InteligenciaArtificial/vosk-model-es-0.42\"  # Cambia esto a la ruta del modelo que descargaste\n",
        "if not os.path.exists(model_path):\n",
        "    print(f\"El modelo {model_path} no existe. Por favor descárgalo primero.\")\n",
        "    sys.exit(1)\n",
        "\n",
        "model = Model(model_path)\n",
        "\n",
        "def transcribe_audio(file_path):\n",
        "    wf = wave.open(file_path, \"rb\")\n",
        "    if wf.getnchannels() != 1 or wf.getsampwidth() != 2 or wf.getcomptype() != \"NONE\":\n",
        "        print(\"Audio file must be WAV format mono PCM.\")\n",
        "        sys.exit(1)\n",
        "\n",
        "    recognizer = KaldiRecognizer(model, wf.getframerate())\n",
        "    results = []\n",
        "\n",
        "    while True:\n",
        "        data = wf.readframes(4000)\n",
        "        if len(data) == 0:\n",
        "            break\n",
        "        if recognizer.AcceptWaveform(data):\n",
        "            results.append(json.loads(recognizer.Result()))\n",
        "\n",
        "    results.append(json.loads(recognizer.FinalResult()))\n",
        "    Audio_Transcrito = ''\n",
        "    for result in results:\n",
        "        Audio_Transcrito += result.get(\"text\")\n",
        "    return Audio_Transcrito\n",
        "\n",
        "# Uso\n",
        "audio_recibido = transcribe_audio('/content/drive/MyDrive/InteligenciaArtificial/audiotengocalor.wav')\n",
        "print(audio_recibido)"
      ],
      "metadata": {
        "id": "AR6exo0iEfPS",
        "colab": {
          "base_uri": "https://localhost:8080/"
        },
        "outputId": "fb8e0063-0558-4887-f93e-f681fdaf9ddb"
      },
      "execution_count": 18,
      "outputs": [
        {
          "output_type": "stream",
          "name": "stdout",
          "text": [
            "tengo calor\n"
          ]
        }
      ]
    },
    {
      "cell_type": "code",
      "source": [
        "!pip install owlready2"
      ],
      "metadata": {
        "colab": {
          "base_uri": "https://localhost:8080/"
        },
        "id": "n7cAnffqYvju",
        "outputId": "65864a82-2478-4f42-df79-549e893f52ac"
      },
      "execution_count": 2,
      "outputs": [
        {
          "output_type": "stream",
          "name": "stdout",
          "text": [
            "Collecting owlready2\n",
            "  Downloading owlready2-0.44.tar.gz (27.3 MB)\n",
            "\u001b[2K     \u001b[90m━━━━━━━━━━━━━━━━━━━━━━━━━━━━━━━━━━━━━━━━\u001b[0m \u001b[32m27.3/27.3 MB\u001b[0m \u001b[31m53.4 MB/s\u001b[0m eta \u001b[36m0:00:00\u001b[0m\n",
            "\u001b[?25h  Installing build dependencies ... \u001b[?25l\u001b[?25hdone\n",
            "  Getting requirements to build wheel ... \u001b[?25l\u001b[?25hdone\n",
            "  Preparing metadata (pyproject.toml) ... \u001b[?25l\u001b[?25hdone\n",
            "Building wheels for collected packages: owlready2\n",
            "  Building wheel for owlready2 (pyproject.toml) ... \u001b[?25l\u001b[?25hdone\n",
            "  Created wheel for owlready2: filename=owlready2-0.44-cp310-cp310-linux_x86_64.whl size=24078645 sha256=076e57e369ba29794c22598ecc0624a5321c984193de5afa0a3b57ac4aa31f4b\n",
            "  Stored in directory: /root/.cache/pip/wheels/88/e1/04/583b0743b2907f091204baaa0aef9740f5ba5f3d2f6a5aa00d\n",
            "Successfully built owlready2\n",
            "Installing collected packages: owlready2\n",
            "Successfully installed owlready2-0.44\n"
          ]
        }
      ]
    },
    {
      "cell_type": "code",
      "source": [
        "from owlready2 import get_ontology, default_world, sync_reasoner\n",
        "\n",
        "# Cargar la ontología\n",
        "onto = get_ontology(\"/content/drive/MyDrive/InteligenciaArtificial/SmartHomeOnt.rdf\").load()\n",
        "\n",
        "print(list(onto.classes()))\n",
        "####\n",
        "# Acceder a las clases de los dispositivos\n",
        "Parlantes = onto.Parlante\n",
        "Termostato = onto.Termostato\n",
        "Alarmas = onto.Alarma\n",
        "Luces = onto.Luces\n",
        "\n",
        "# Crear individuos para cada clase de dispositivo\n",
        "parlante_sala = Parlantes(\"ParlanteSala\")\n",
        "termostato_sala = Termostato(\"TermostatoSala\")\n",
        "alarma_principal = Alarmas(\"AlarmaPrincipal\")\n",
        "luces_sala = Luces(\"LucesSala\")\n",
        "\n",
        "# Asignar propiedades de datos a los individuos\n",
        "parlante_sala.volumenActual = 70\n",
        "parlante_sala.canciónActual = \"Imagine - John Lennon\"\n",
        "\n",
        "termostato_sala.temperaturaActual = 22.5\n",
        "termostato_sala.modo = [\"calor\"]\n",
        "\n",
        "alarma_principal.horaConfigurada = [\"07:00:00\"]\n",
        "alarma_principal.sonidoSeleccionado = [\"Tonos básicos\"]\n",
        "\n",
        "luces_sala.intensidadLuz = [90]\n",
        "\n",
        "# Usar el razonador para inferir información adicional (si es necesario)\n",
        "sync_reasoner()\n",
        "\n",
        "# Hacer consultas o acciones con la información\n",
        "todos_dispositivos = list(Parlantes.instances()) + list(Termostato.instances()) + list(Alarmas.instances()) + list(Luces.instances())\n",
        "\n",
        "for dispositivo in todos_dispositivos:\n",
        "    print(dispositivo)\n",
        "    if isinstance(dispositivo, Parlantes):\n",
        "        print(f\"   Volumen Actual: {dispositivo.volumenActual}\")\n",
        "        print(f\"   Canción Actual: {dispositivo.canciónActual}\")\n",
        "    elif isinstance(dispositivo, Termostato):\n",
        "        print(f\"   Temperatura Actual: {dispositivo.temperaturaActual}\")\n",
        "        print(f\"   Modo: {dispositivo.modo}\")\n",
        "    elif isinstance(dispositivo, Alarmas):\n",
        "        print(f\"   Hora Configurada: {dispositivo.horaConfigurada}\")\n",
        "        print(f\"   Sonido Seleccionado: {dispositivo.sonidoSeleccionado}\")\n",
        "    elif isinstance(dispositivo, Luces):\n",
        "        print(f\"   Intensidad Luz: {dispositivo.intensidadLuz}\")\n",
        "\n",
        "\n",
        "\n"
      ],
      "metadata": {
        "colab": {
          "base_uri": "https://localhost:8080/"
        },
        "id": "jyIAIQTImHee",
        "outputId": "5cdb89e7-da24-436b-b80e-2d4a63f0720d"
      },
      "execution_count": 19,
      "outputs": [
        {
          "output_type": "stream",
          "name": "stdout",
          "text": [
            "[SmartHomeOnt.Agente, SmartHomeOnt.Horarios, SmartHomeOnt.Dispostivos, SmartHomeOnt.Parlante, SmartHomeOnt.Adelantar_Musica, SmartHomeOnt.Luces, SmartHomeOnt.Termostato, SmartHomeOnt.Apagar_Luz, SmartHomeOnt.Apagar_Termostato, SmartHomeOnt.Aumentar_Iluminacion, SmartHomeOnt.Aumentar_VolumenMusica, SmartHomeOnt.Bajar_Temperatura, SmartHomeOnt.Alarma, SmartHomeOnt.Desactivar_Alarma, SmartHomeOnt.Disminuir_Iluminacion, SmartHomeOnt.Disminuir_VolumenMusica, SmartHomeOnt.Encender_Luz, SmartHomeOnt.Encender_Termostato, SmartHomeOnt.Pausar_Musica, SmartHomeOnt.Posponer_Alarma, SmartHomeOnt.Programar_Alarma, SmartHomeOnt.Reproducir_Musica, SmartHomeOnt.Retroceder_Musica, SmartHomeOnt.Subir_Temperatura, SmartHomeOnt.Acciones, SmartHomeOnt.Mañana, SmartHomeOnt.Noche, SmartHomeOnt.Tarde]\n"
          ]
        },
        {
          "output_type": "stream",
          "name": "stderr",
          "text": [
            "* Owlready2 * Running HermiT...\n",
            "    java -Xmx2000M -cp /usr/local/lib/python3.10/dist-packages/owlready2/hermit:/usr/local/lib/python3.10/dist-packages/owlready2/hermit/HermiT.jar org.semanticweb.HermiT.cli.CommandLine -c -O -D -I file:////tmp/tmpdj4zi651\n",
            "* Owlready2 * HermiT took 2.1153180599212646 seconds\n",
            "* Owlready * Equivalenting: owl.Thing SmartHomeOnt.Dispostivos\n",
            "* Owlready * Equivalenting: owl.Thing SmartHomeOnt.Luces\n",
            "* Owlready * Equivalenting: SmartHomeOnt.Dispostivos owl.Thing\n",
            "* Owlready * Equivalenting: SmartHomeOnt.Dispostivos SmartHomeOnt.Luces\n",
            "* Owlready * Equivalenting: SmartHomeOnt.Luces owl.Thing\n",
            "* Owlready * Equivalenting: SmartHomeOnt.Luces SmartHomeOnt.Dispostivos\n",
            "* Owlready * (NB: only changes on entities loaded in Python are shown, other changes are done but not listed)\n"
          ]
        },
        {
          "output_type": "stream",
          "name": "stdout",
          "text": [
            "SmartHomeOnt.ParlanteSala\n",
            "   Volumen Actual: 70\n",
            "   Canción Actual: Imagine - John Lennon\n",
            "SmartHomeOnt.TermostatoSala\n",
            "   Temperatura Actual: 22.5\n",
            "   Modo: ['calor']\n",
            "SmartHomeOnt.AlarmaPrincipal\n",
            "   Hora Configurada: ['07:00:00']\n",
            "   Sonido Seleccionado: ['Tonos básicos']\n",
            "SmartHomeOnt.ParlanteSala\n",
            "   Volumen Actual: 70\n",
            "   Canción Actual: Imagine - John Lennon\n",
            "SmartHomeOnt.TermostatoSala\n",
            "   Temperatura Actual: 22.5\n",
            "   Modo: ['calor']\n",
            "SmartHomeOnt.AlarmaPrincipal\n",
            "   Hora Configurada: ['07:00:00']\n",
            "   Sonido Seleccionado: ['Tonos básicos']\n",
            "SmartHomeOnt.LucesSala\n",
            "   Intensidad Luz: [90]\n"
          ]
        }
      ]
    },
    {
      "cell_type": "markdown",
      "source": [
        "# Iteración 4: Logica Difusa"
      ],
      "metadata": {
        "id": "z7LY5bnWKWRh"
      }
    },
    {
      "cell_type": "markdown",
      "source": [
        "## Inputs"
      ],
      "metadata": {
        "id": "3WOjfmJqSJeZ"
      }
    },
    {
      "cell_type": "markdown",
      "source": [
        "> ### Horario:\n",
        "*  Universo: en formato de 24 Horas que hora es?\n",
        "*  Fuzzy set: Madrugada, Mañana, Tarde, Noche\n",
        "\n",
        "\n",
        "\n",
        "> ### Estado Música:\n",
        "* Universo: en la escala de 0 a 100 que nivel de volumen se encuentra la musica?\n",
        "* Fuzzy set: Apagado, baja, Medio, Alto\n",
        "\n",
        "\n",
        "\n",
        "> ### Iluminación:\n",
        "* Universo:en la escala de 0 a 100, que intencidad de iluminación tiene?\n",
        "* Fuzzy set: Apagadas, Bajo, Medio, Alto\n",
        "\n",
        "\n",
        "\n",
        "\n",
        "\n",
        "\n",
        "\n",
        "\n",
        "\n",
        "\n"
      ],
      "metadata": {
        "id": "fDoWElnWKkoC"
      }
    },
    {
      "cell_type": "markdown",
      "source": [
        "## Outputs"
      ],
      "metadata": {
        "id": "79kf4mieSDuN"
      }
    },
    {
      "cell_type": "markdown",
      "source": [
        "> ### Iluminación:\n",
        "  Universo: que accion debemos realizar con la Iluminación?\n",
        "> ###  Reglas:\n",
        "1. Si las luces estan Apagadas y es de Madrugada,entonces Mantener así las luces.\n",
        "2. Si las luces estan bajo o medio o alto y es de Madrugada, entonces Apagar luces.\n",
        "3. Si las luces estan apagadas o Bajo y es de Mañana, Entonces Mantener así las luces.\n",
        "4. Si las luces estan en medio O alto y es de Mañana, entonces Poner las luces en Bajo.\n",
        "5. Si las luces están apagadas y es tarde, entonces Mantener Así las luces.\n",
        "6. Si las luces estan en bajo o medio o alto y es tarde, entonces apagar las luces.\n",
        "7. Si es de noche, entonces mantener las luces."
      ],
      "metadata": {
        "id": "qevpSPOxRIBx"
      }
    },
    {
      "cell_type": "code",
      "source": [
        "!pip install -U scikit-fuzzy"
      ],
      "metadata": {
        "id": "5GNXUJAypu4u"
      },
      "execution_count": null,
      "outputs": []
    },
    {
      "cell_type": "code",
      "source": [
        "#Librerias\n",
        "import skfuzzy as fuzzy\n",
        "from skfuzzy import control as ctrl\n",
        "import numpy as np\n",
        "\n",
        "#Antecedentes/Consecuentes\n",
        "horario = ctrl.Antecedent(np.arange(0,25,0.1),'Horario')\n",
        "estadoMusica = ctrl.Antecedent(np.arange(0,101,1),'Estado Musica')\n",
        "iluminacion = ctrl.Antecedent(np.arange(0,101,1),'Iluminacion')\n",
        "\n",
        "#Asignacion de variables difusas Horario\n",
        "horario['Madrugada']=fuzzy.trimf(horario.universe,[0,6,7])\n",
        "horario['Mañana']=fuzzy.trimf(horario.universe,[6,12,13])\n",
        "horario['Tarde']=fuzzy.trimf(horario.universe,[12,19,20])\n",
        "horario['Noche']=fuzzy.trimf(horario.universe,[19,24,24])\n",
        "\n",
        "#Asignacion de variables difusas Estado Musica\n",
        "estadoMusica['Apagado']=fuzzy.trimf(estadoMusica.universe,[0,0,1])\n",
        "estadoMusica['Bajo']=fuzzy.trimf(estadoMusica.universe,[1,40,41])\n",
        "estadoMusica['Medio']=fuzzy.trimf(estadoMusica.universe,[40,70,71])\n",
        "estadoMusica['Alto']=fuzzy.trimf(estadoMusica.universe,[60,100,100])\n",
        "\n",
        "#asignacion de variables difusas Iluminacion\n",
        "iluminacion['Apagado']=fuzzy.trimf(iluminacion.universe,[0,0,1])\n",
        "iluminacion['Bajo']=fuzzy.trimf(iluminacion.universe,[1,30,31])\n",
        "iluminacion['Medio']=fuzzy.trimf(iluminacion.universe,[30,60,61])\n",
        "iluminacion['Alto']=fuzzy.trimf(iluminacion.universe,[60,100,100])\n",
        "\n",
        "\n",
        "#vizualizacion de graficas\n",
        "horario.view()\n",
        "estadoMusica.view()\n",
        "iluminacion.view()\n",
        "\n",
        "\n"
      ],
      "metadata": {
        "id": "woYP9mEHLaq-"
      },
      "execution_count": null,
      "outputs": []
    },
    {
      "cell_type": "code",
      "source": [
        "# Reglas para iluminación\n",
        "## aquí se crearan las reglas descritas en el texto anterior al código con respecto a la iluminacion\n",
        "regla1=ctrl.Rule(iluminacion['Apagado'] & horario['Madrugada'], iluminacion['Apagado'])\n",
        "regla2=ctrl.Rule((iluminacion['Bajo'] | iluminacion['Medio'] | iluminacion['Alto']) & horario['Madrugada'],iluminacion['Apagado'])\n",
        "regla3=ctrl.Rule(iluminacion['Apagado'] & horario['Mañana'], iluminacion['Apagado'])\n",
        "regla3_1=ctrl.Rule(iluminacion['Bajo'] & horario['Mañana'], iluminacion['Bajo'])\n",
        "regla4=ctrl.Rule((iluminacion['Medio'] | iluminacion['Alto']) & horario['Mañana'], iluminacion['Bajo'])\n",
        "regla5=ctrl.Rule(iluminacion['Apagado'] & horario['Tarde'], iluminacion['Apagado'])\n",
        "regla6=ctrl.Rule((iluminacion['Bajo'] | iluminacion['Medio'] | iluminacion['Alto']) & horario['Tarde'],iluminacion['Apagado'])\n",
        "regla7=ctrl.Rule(iluminacion['Apagado'] & horario['Noche'],iluminacion['Apagado'])\n",
        "regla7_1=ctrl.Rule(iluminacion['Bajo'] & horario['Noche'],iluminacion['Bajo'])\n",
        "regla7_2=ctrl.Rule(iluminacion['Medio'] & horario['Noche'],iluminacion['Medio'])\n",
        "regla7_3=ctrl.Rule(iluminacion['Alto'] & horario['Noche'],iluminacion['Alto'])\n",
        "\n",
        "#creamos sistema de control\n",
        "controlIluminacion=ctrl.ControlSystem([regla1,regla2,regla3,regla3_1,regla4,regla5,regla6,regla7,regla7_1,regla7_2,regla7_3])\n",
        "#regla1.view()"
      ],
      "metadata": {
        "id": "b_afRotochHn"
      },
      "execution_count": null,
      "outputs": []
    },
    {
      "cell_type": "code",
      "source": [
        "ligthing=ctrl.ControlSystemSimulation(controlIluminacion)"
      ],
      "metadata": {
        "id": "gxHajQBFD3bR"
      },
      "execution_count": null,
      "outputs": []
    },
    {
      "cell_type": "code",
      "source": [
        "# Reglas para la Musica\n",
        "## aquí se crearan las reglas descritas en el texto anterior el codigo con respecto a la Música\n",
        "Rule1=ctrl.Rule(estadoMusica['Apagado']& (horario['Madrugada'] | horario['Mañana'] | horario['Tarde'] | horario['Noche']))"
      ],
      "metadata": {
        "id": "A1SQAU7XE6HF"
      },
      "execution_count": null,
      "outputs": []
    },
    {
      "cell_type": "markdown",
      "source": [
        "> ### Música:\n",
        "  Universo: Que accion debemos realizar con la Música?\n",
        "> ### Reglas:\n",
        "1. Si la música está apagada o a un nivel bajo y es de madrugada o de noche, entonces mantener el volumen como está.\n",
        "2. Si la música está a un nivel medio y es de madrugada, entonces poner el volumen en bajo\n",
        "3. Si la música está a un nivel alto, entonces apagar música.\n",
        "4. Si la música está apagada o a un nivel bajo o medio y es de Mañana, entonces mantener el volumen como está.\n",
        "5. Si la música está a un nivel alto y es de mañana, entonces poner el volumen a un nivel Medio.\n",
        "6. si la música está apagada o a un nivel bajo o medio o alto y es tarde, entonces mantener el volumen como está.\n",
        "7. Si la música está a un volumen bajo o medio y es de Noche, entonces poner el volumen de la musica en bajo.\n",
        "\n",
        "\n"
      ],
      "metadata": {
        "id": "4nVPdk-ySTTS"
      }
    }
  ]
}